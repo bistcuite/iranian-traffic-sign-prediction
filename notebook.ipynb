{
  "nbformat": 4,
  "nbformat_minor": 0,
  "metadata": {
    "colab": {
      "name": "Untitled18.ipynb",
      "provenance": [],
      "collapsed_sections": [
        "KLm3OL_Dfafj",
        "BOcDAY7DRlSp",
        "_B3AYC5uTOXJ",
        "M87CXrKWTTET",
        "AqZfn9z5esJa",
        "TzYQdi5Tfosb",
        "0tscYMT_oajW",
        "ta1Rhm9zocxd"
      ]
    },
    "kernelspec": {
      "name": "python3",
      "display_name": "Python 3"
    },
    "language_info": {
      "name": "python"
    }
  },
  "cells": [
    {
      "cell_type": "markdown",
      "source": [
        "## Kaggle"
      ],
      "metadata": {
        "id": "KLm3OL_Dfafj"
      }
    },
    {
      "cell_type": "code",
      "execution_count": 8,
      "metadata": {
        "id": "OuqaDGeFIt8f",
        "colab": {
          "base_uri": "https://localhost:8080/"
        },
        "outputId": "bb04ccda-b828-4422-ea43-cf330d84c25d"
      },
      "outputs": [
        {
          "output_type": "stream",
          "name": "stdout",
          "text": [
            "mkdir: cannot create directory ‘/root/.kaggle’: File exists\n"
          ]
        }
      ],
      "source": [
        "! mkdir ~/.kaggle\n",
        "! cp kaggle.json ~/.kaggle/\n",
        "! chmod 600 ~/.kaggle/kaggle.json"
      ]
    },
    {
      "cell_type": "markdown",
      "source": [
        "## Downloading dataset"
      ],
      "metadata": {
        "id": "BOcDAY7DRlSp"
      }
    },
    {
      "cell_type": "code",
      "source": [
        "! kaggle datasets download -d saraparsaseresht/persian-traffic-sign-dataset-ptsd\n",
        "! unzip persian-traffic-sign-dataset-ptsd.zip"
      ],
      "metadata": {
        "id": "vOLXmgi0RfMc"
      },
      "execution_count": null,
      "outputs": []
    },
    {
      "cell_type": "markdown",
      "source": [
        "## Importing required libraries"
      ],
      "metadata": {
        "id": "_B3AYC5uTOXJ"
      }
    },
    {
      "cell_type": "code",
      "source": [
        "import numpy as np\n",
        "import pandas as pd\n",
        "import matplotlib.pyplot as plt\n",
        "import tensorflow as tf \n",
        "from PIL import Image\n",
        "from sklearn.model_selection import train_test_split\n",
        "import keras\n",
        "import os"
      ],
      "metadata": {
        "id": "r1-TX_hGSYKZ"
      },
      "execution_count": 47,
      "outputs": []
    },
    {
      "cell_type": "markdown",
      "source": [
        "## Load dataset and preprocessing"
      ],
      "metadata": {
        "id": "M87CXrKWTTET"
      }
    },
    {
      "cell_type": "code",
      "source": [
        "# ! cp -r train/train train/\n",
        "# ! cp -r train/test test/\n",
        "\n",
        "classes_name = {}\n",
        "for item in os.listdir(\"train\") :\n",
        "  i = item.split(\"_\")\n",
        "  classes_name[i[0]] = i[1]\n",
        "  os.rename(\"train/\"+item,\"train/\"+i[0])"
      ],
      "metadata": {
        "id": "A9hqOSjOblO9"
      },
      "execution_count": 43,
      "outputs": []
    },
    {
      "cell_type": "code",
      "source": [
        "data = []\n",
        "labels = []\n",
        "classes = 43 \n",
        "cur_path = os.getcwd() \n",
        "for i in range(classes): \n",
        "  path = os.path.join(cur_path,'train', str(i)) \n",
        "  images = os.listdir(path) \n",
        "  for a in images: \n",
        "    try: \n",
        "      image = Image.open(path + \"/\" + a) \n",
        "      image = image.resize((30,30)) \n",
        "      image = np.array(image) \n",
        "      data.append(image) \n",
        "      labels.append(i) \n",
        "    except: \n",
        "      print(\"Error loading image\") \n",
        "data = np.array(data)\n",
        "labels = np.array(labels)"
      ],
      "metadata": {
        "id": "RTSgMzBATIun"
      },
      "execution_count": 44,
      "outputs": []
    },
    {
      "cell_type": "code",
      "source": [
        "print(data.shape, labels.shape)\n",
        "X_train, X_test, y_train, y_test = train_test_split(data, labels, test_size=0.2, random_state=42)"
      ],
      "metadata": {
        "colab": {
          "base_uri": "https://localhost:8080/"
        },
        "id": "9fCMqsDVTrNu",
        "outputId": "3e8b9dbc-08f8-4c98-8b97-63837d8cf56e"
      },
      "execution_count": 53,
      "outputs": [
        {
          "output_type": "stream",
          "name": "stdout",
          "text": [
            "(14405, 30, 30, 3) (14405,)\n"
          ]
        }
      ]
    },
    {
      "cell_type": "code",
      "source": [
        "#Converting the labels into one hot encoding\n",
        "y_train = tf.keras.utils.to_categorical(y_train, 43)\n",
        "y_test = tf.keras.utils.to_categorical(y_test, 43)"
      ],
      "metadata": {
        "id": "jqLLtAqiXC5E"
      },
      "execution_count": 54,
      "outputs": []
    },
    {
      "cell_type": "markdown",
      "source": [
        "## Building the model"
      ],
      "metadata": {
        "id": "AqZfn9z5esJa"
      }
    },
    {
      "cell_type": "code",
      "source": [
        "from keras.models import Sequential \n",
        "from keras.layers import Conv2D, MaxPool2D, Dense, Flatten, Dropout\n",
        "\n",
        "# Building the model\n",
        "model = Sequential()\n",
        "model.add(Conv2D(filters=32, kernel_size=(5,5), activation='relu', input_shape=X_train.shape[1:]))\n",
        "model.add(Conv2D(filters=32, kernel_size=(5,5), activation='relu'))\n",
        "model.add(MaxPool2D(pool_size=(2, 2)))\n",
        "model.add(Dropout(rate=0.25))\n",
        "model.add(Conv2D(filters=64, kernel_size=(3, 3), activation='relu'))\n",
        "model.add(Conv2D(filters=64, kernel_size=(3, 3), activation='relu'))\n",
        "model.add(MaxPool2D(pool_size=(2, 2)))\n",
        "model.add(Dropout(rate=0.25))\n",
        "model.add(Flatten())\n",
        "model.add(Dense(256, activation='relu'))\n",
        "model.add(Dropout(rate=0.5))\n",
        "model.add(Dense(43, activation='softmax'))\n",
        "# Compilation of the model\n",
        "model.compile(loss='categorical_crossentropy', optimizer='adam', metrics=['accuracy'])"
      ],
      "metadata": {
        "id": "eOFsz4QobCrs"
      },
      "execution_count": 55,
      "outputs": []
    },
    {
      "cell_type": "markdown",
      "source": [
        "## Training"
      ],
      "metadata": {
        "id": "TzYQdi5Tfosb"
      }
    },
    {
      "cell_type": "code",
      "source": [
        "epochs = 15\n",
        "histry = model.fit(X_train, y_train, batch_size=32, epochs=epochs, validation_data=(X_test, y_test))"
      ],
      "metadata": {
        "colab": {
          "base_uri": "https://localhost:8080/"
        },
        "id": "CLjBwOoievpL",
        "outputId": "d0ff8580-52bc-4e63-a081-6c6c0ea5d593"
      },
      "execution_count": 56,
      "outputs": [
        {
          "output_type": "stream",
          "name": "stdout",
          "text": [
            "Epoch 1/15\n",
            "361/361 [==============================] - 47s 127ms/step - loss: 2.5407 - accuracy: 0.4331 - val_loss: 1.0084 - val_accuracy: 0.7584\n",
            "Epoch 2/15\n",
            "361/361 [==============================] - 48s 133ms/step - loss: 0.9951 - accuracy: 0.7456 - val_loss: 0.4692 - val_accuracy: 0.8799\n",
            "Epoch 3/15\n",
            "361/361 [==============================] - 45s 124ms/step - loss: 0.6594 - accuracy: 0.8311 - val_loss: 0.3673 - val_accuracy: 0.9132\n",
            "Epoch 4/15\n",
            "361/361 [==============================] - 49s 136ms/step - loss: 0.5174 - accuracy: 0.8654 - val_loss: 0.2905 - val_accuracy: 0.9337\n",
            "Epoch 5/15\n",
            "361/361 [==============================] - 44s 123ms/step - loss: 0.4410 - accuracy: 0.8818 - val_loss: 0.3252 - val_accuracy: 0.9278\n",
            "Epoch 6/15\n",
            "361/361 [==============================] - 45s 125ms/step - loss: 0.3936 - accuracy: 0.8977 - val_loss: 0.2054 - val_accuracy: 0.9531\n",
            "Epoch 7/15\n",
            "361/361 [==============================] - 44s 122ms/step - loss: 0.3584 - accuracy: 0.9079 - val_loss: 0.2129 - val_accuracy: 0.9490\n",
            "Epoch 8/15\n",
            "361/361 [==============================] - 44s 123ms/step - loss: 0.3128 - accuracy: 0.9173 - val_loss: 0.1884 - val_accuracy: 0.9594\n",
            "Epoch 9/15\n",
            "361/361 [==============================] - 57s 157ms/step - loss: 0.2921 - accuracy: 0.9218 - val_loss: 0.2005 - val_accuracy: 0.9563\n",
            "Epoch 10/15\n",
            "361/361 [==============================] - 44s 122ms/step - loss: 0.2821 - accuracy: 0.9236 - val_loss: 0.2488 - val_accuracy: 0.9420\n",
            "Epoch 11/15\n",
            "361/361 [==============================] - 45s 125ms/step - loss: 0.2722 - accuracy: 0.9268 - val_loss: 0.1665 - val_accuracy: 0.9663\n",
            "Epoch 12/15\n",
            "361/361 [==============================] - 44s 123ms/step - loss: 0.2605 - accuracy: 0.9306 - val_loss: 0.1864 - val_accuracy: 0.9618\n",
            "Epoch 13/15\n",
            "361/361 [==============================] - 45s 124ms/step - loss: 0.2524 - accuracy: 0.9339 - val_loss: 0.1707 - val_accuracy: 0.9667\n",
            "Epoch 14/15\n",
            "361/361 [==============================] - 44s 121ms/step - loss: 0.2239 - accuracy: 0.9403 - val_loss: 0.1581 - val_accuracy: 0.9688\n",
            "Epoch 15/15\n",
            "361/361 [==============================] - 44s 121ms/step - loss: 0.2475 - accuracy: 0.9383 - val_loss: 0.2120 - val_accuracy: 0.9490\n"
          ]
        }
      ]
    },
    {
      "cell_type": "markdown",
      "source": [
        "## Plotting accuracy"
      ],
      "metadata": {
        "id": "1XUkPfeIg023"
      }
    },
    {
      "cell_type": "code",
      "source": [
        "#plotting graphs for accuracy\n",
        "plt.figure(0)\n",
        "plt.plot(histry.history['accuracy'], label='training accuracy')\n",
        "plt.plot(histry.history['val_accuracy'], label='val accuracy')\n",
        "plt.title('Accuracy')\n",
        "plt.xlabel('epochs')\n",
        "plt.ylabel('accuracy')\n",
        "plt.legend()\n",
        "plt.show()\n",
        "plt.figure(1)\n",
        "plt.plot(histry.history['loss'], label='training loss')\n",
        "plt.plot(histry.history['val_loss'], label='val loss')\n",
        "plt.title('Loss')\n",
        "plt.xlabel('epochs')\n",
        "plt.ylabel('loss')\n",
        "plt.legend()\n",
        "plt.show()"
      ],
      "metadata": {
        "colab": {
          "base_uri": "https://localhost:8080/",
          "height": 573
        },
        "id": "JwWspIDXfQ2L",
        "outputId": "feb85dde-f9a9-4008-f3a6-ac125895f91a"
      },
      "execution_count": 57,
      "outputs": [
        {
          "output_type": "display_data",
          "data": {
            "text/plain": [
              "<Figure size 432x288 with 1 Axes>"
            ],
            "image/png": "[encoded data removed]"
          },
          "metadata": {
            "needs_background": "light"
          }
        },
        {
          "output_type": "display_data",
          "data": {
            "text/plain": [
              "<Figure size 432x288 with 1 Axes>"
            ],
            "image/png": "[encoded data removed]"
          },
          "metadata": {
            "needs_background": "light"
          }
        }
      ]
    },
    {
      "cell_type": "markdown",
      "source": [
        "## Save model"
      ],
      "metadata": {
        "id": "0tscYMT_oajW"
      }
    },
    {
      "cell_type": "code",
      "source": [
        "model.save('traffic_classifier.h5')"
      ],
      "metadata": {
        "id": "BVm3chKGiMXu"
      },
      "execution_count": null,
      "outputs": []
    },
    {
      "cell_type": "markdown",
      "source": [
        "## Test model"
      ],
      "metadata": {
        "id": "ta1Rhm9zocxd"
      }
    },
    {
      "cell_type": "code",
      "source": [
        "image = np.array(Image.open(\"test/PTSD_00030.jpg\").resize((30, 30)))\n",
        "plt.imshow(image)"
      ],
      "metadata": {
        "colab": {
          "base_uri": "https://localhost:8080/",
          "height": 266
        },
        "id": "XFi-pGYniXSv",
        "outputId": "01124377-bed2-494e-9e74-f2f7fe332f4d"
      },
      "execution_count": 99,
      "outputs": [
        {
          "output_type": "display_data",
          "data": {
            "text/plain": [
              "<Figure size 432x288 with 1 Axes>"
            ],
            "image/png": "[encoded data removed]"
          },
          "metadata": {
            "needs_background": "light"
          }
        }
      ]
    },
    {
      "cell_type": "code",
      "source": [
        "image = image.reshape(1,30,30,3)\n",
        "y_pred = model.predict(image)\n",
        "np.argmax(y_pred,axis=1)"
      ],
      "metadata": {
        "colab": {
          "base_uri": "https://localhost:8080/"
        },
        "id": "dh-99svQiyiH",
        "outputId": "15b59209-1013-4f4c-8dc7-73f8c672868a"
      },
      "execution_count": 100,
      "outputs": [
        {
          "output_type": "execute_result",
          "data": {
            "text/plain": [
              "array([9])"
            ]
          },
          "metadata": {},
          "execution_count": 100
        }
      ]
    },
    {
      "cell_type": "code",
      "source": [
        ""
      ],
      "metadata": {
        "id": "PPEAV1GWjwsC"
      },
      "execution_count": null,
      "outputs": []
    },
    {
      "cell_type": "code",
      "source": [
        ""
      ],
      "metadata": {
        "id": "HUZo92-soCf4"
      },
      "execution_count": null,
      "outputs": []
    }
  ]
}